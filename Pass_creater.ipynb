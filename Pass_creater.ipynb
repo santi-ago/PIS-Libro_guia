{
  "nbformat": 4,
  "nbformat_minor": 0,
  "metadata": {
    "colab": {
      "name": "Pass creater.ipynb",
      "provenance": [],
      "collapsed_sections": [],
      "authorship_tag": "ABX9TyOvkTJCcr1FhFBzkFTUkxJR",
      "include_colab_link": true
    },
    "kernelspec": {
      "name": "python3",
      "display_name": "Python 3"
    }
  },
  "cells": [
    {
      "cell_type": "markdown",
      "metadata": {
        "id": "view-in-github",
        "colab_type": "text"
      },
      "source": [
        "<a href=\"https://colab.research.google.com/github/santi-ago/PIS-Libro_guia/blob/master/Pass_creater.ipynb\" target=\"_parent\"><img src=\"https://colab.research.google.com/assets/colab-badge.svg\" alt=\"Open In Colab\"/></a>"
      ]
    },
    {
      "cell_type": "code",
      "metadata": {
        "id": "cXasDl3WJ2Bp",
        "colab_type": "code",
        "colab": {}
      },
      "source": [
        "import numpy as np\n",
        "import pandas as pd\n",
        "from datetime import date\n",
        "\n",
        "def get4(valor):\n",
        "    div = str(valor).split('.')\n",
        "    return div[1][4:8]\n",
        "\n",
        "data = np.zeros((5,12))\n",
        "meses = {1:'Enero', 2:'Febrero', 3:'Marzo', 4:'Abril', 5:'Mayo', \n",
        "         6:'Junio', 7:'Julio', 8:'Agosto', 9:'Septiembre', \n",
        "         10:'Octubre', 11:'Noviembre', 12:'Diciembre'}\n",
        "year = 2020\n",
        "annos = [_ for _ in range(year,year+5,1)]\n",
        "Pass = pd.DataFrame(data, index=annos, columns=meses)\n",
        "\n",
        "fecini = date(1995,7,19)\n",
        "edad = int((date.today() - fecini).days/30/12) #24\n",
        "factor = (1995*1933*1936*1946)/edad #325\n",
        "\n",
        "\n",
        "for i in range(data.shape[0]):\n",
        "    mes = 1 #Empieza en enero\n",
        "    for j in range(data.shape[1]):\n",
        "        if mes > 12:\n",
        "            mes = 1\n",
        "        fecact = date(year, mes, 19)\n",
        "        delta = fecact - fecini\n",
        "        delta = delta.days\n",
        "        data[i,j] = get4(delta/factor)\n",
        "        mes += 1\n",
        "\n",
        "    year += 1 \n",
        "Pass = pd.DataFrame(data, index=annos, columns=meses.values())\n",
        "Pass.to_excel('test.xls')"
      ],
      "execution_count": 0,
      "outputs": []
    },
    {
      "cell_type": "code",
      "metadata": {
        "id": "3LoLfKWNNQoZ",
        "colab_type": "code",
        "colab": {
          "base_uri": "https://localhost:8080/",
          "height": 35
        },
        "outputId": "dd5ea7f4-ef3b-4d5d-aa15-18a8c4e6acc4"
      },
      "source": [
        "fecact = date(2024, 12, 19)\n",
        "delta = fecact - fecini\n",
        "delta = delta.days\n",
        "print(str(delta/factor))\n"
      ],
      "execution_count": 60,
      "outputs": [
        {
          "output_type": "stream",
          "text": [
            "33.02227912932138\n"
          ],
          "name": "stdout"
        }
      ]
    }
  ]
}