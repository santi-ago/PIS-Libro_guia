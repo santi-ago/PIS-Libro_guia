{
  "nbformat": 4,
  "nbformat_minor": 0,
  "metadata": {
    "colab": {
      "name": "Principal.ipynb",
      "provenance": [],
      "collapsed_sections": [],
      "toc_visible": true,
      "authorship_tag": "ABX9TyMjOCTK8Gi/P3NGOAZ7XFcz",
      "include_colab_link": true
    },
    "kernelspec": {
      "name": "python3",
      "display_name": "Python 3"
    }
  },
  "cells": [
    {
      "cell_type": "markdown",
      "metadata": {
        "id": "view-in-github",
        "colab_type": "text"
      },
      "source": [
        "<a href=\"https://colab.research.google.com/github/santi-ago/PIS-Libro_guia/blob/master/Principal.ipynb\" target=\"_parent\"><img src=\"https://colab.research.google.com/assets/colab-badge.svg\" alt=\"Open In Colab\"/></a>"
      ]
    },
    {
      "cell_type": "markdown",
      "metadata": {
        "id": "-9Ip3G0I2IBL",
        "colab_type": "text"
      },
      "source": [
        "<h1>Guía de Informática para Bioingeniería</h1>\n",
        "\n",
        "---\n",
        "\n",
        "* # [Conceptos básicos de programación](https://github.com/santi-ago/PIS-Libro_guia/blob/master/Modulos/Conceptos_basicos.ipynb)\n",
        "* # [Lenguajes de programación](https://)\n",
        "\n",
        "* # [¿Qué es Python?](https://)\n",
        "\n",
        "* # [Descarga e instalación de Python](https://)\n"
      ]
    }
  ]
}