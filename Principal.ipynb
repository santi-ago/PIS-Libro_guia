{
  "nbformat": 4,
  "nbformat_minor": 0,
  "metadata": {
    "colab": {
      "name": "Principal.ipynb",
      "provenance": [],
      "collapsed_sections": [],
      "toc_visible": true,
      "authorship_tag": "ABX9TyNFMJIiX6IMdQAX5dY/SDeP",
      "include_colab_link": true
    },
    "kernelspec": {
      "name": "python3",
      "display_name": "Python 3"
    }
  },
  "cells": [
    {
      "cell_type": "markdown",
      "metadata": {
        "id": "view-in-github",
        "colab_type": "text"
      },
      "source": [
        "<a href=\"https://colab.research.google.com/github/santi-ago/PIS-Libro_guia/blob/master/Principal.ipynb\" target=\"_parent\"><img src=\"https://colab.research.google.com/assets/colab-badge.svg\" alt=\"Open In Colab\"/></a>"
      ]
    },
    {
      "cell_type": "markdown",
      "metadata": {
        "id": "-9Ip3G0I2IBL",
        "colab_type": "text"
      },
      "source": [
        "<h1>Guía de Informática para Bioingeniería</h1>\n",
        "\n",
        "---\n",
        "\n",
        "1. **[Introducción](https://github.com/santi-ago/PIS-Libro_guia/blob/master/Modulos/Conceptos_basicos.ipynb)**\n",
        "<ul>\n",
        "  <li>Conceptos básicos de lógica.</li>\n",
        "  <li>Lenguajes de programación.</li>\n",
        "  <li>¿Qué es Python?.</li>\n",
        "  <li>Descarga e instalación de Python.</li>\n",
        "</ul>\n",
        "\n",
        "2. **[Unidad 1](https://github.com/santi-ago/PIS-Libro_guia/blob/master/Modulos/Unidad_1.ipynb):** Sintaxis de Python y terminología\n",
        "<ul>\n",
        "  <li>Variables</li>\n",
        "  <li>Cadenas, enteros, etc.</li>\n",
        "  <li>Manipulación de cadenas</li>\n",
        "  <li>Almacenado de variables</li>\n",
        "  <li>Valores booleanos</li>\n",
        "  <li>Listas y diccionarios</li>\n",
        "  <li>Ejemplos y ejercicios </li>\n",
        "</ul>\n",
        "\n",
        "3. **[Unidad 2](https://github.com/santi-ago/PIS-Libro_guia/blob/master/Modulos/Unidad_2.ipynb):** Funciones y librerías\n",
        "<ul>\n",
        "  <li>Definición de función</li>\n",
        "  <li>Usos prácticos y ejemplos</li>\n",
        "  <li>Métodos</li>\n",
        "  <li>Librerías y paquetes</li>\n",
        "</ul>\n",
        "\n",
        "3. **[Unidad 3](https://github.com/santi-ago/PIS-Libro_guia/blob/master/Modulos/Unidad_3.ipynb):** Manejo de archivos y aplicaciones\n",
        "<ul>\n",
        "  <li>Función “os”</li>\n",
        "  <li></li>\n",
        "</ul>\n"
      ]
    }
  ]
}