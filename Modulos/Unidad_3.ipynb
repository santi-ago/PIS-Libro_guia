{
  "nbformat": 4,
  "nbformat_minor": 0,
  "metadata": {
    "colab": {
      "name": "Unidad_3.ipynb",
      "provenance": [],
      "authorship_tag": "ABX9TyOP1Lm11D2oiot33ofhbBhi",
      "include_colab_link": true
    },
    "kernelspec": {
      "name": "python3",
      "display_name": "Python 3"
    }
  },
  "cells": [
    {
      "cell_type": "markdown",
      "metadata": {
        "id": "view-in-github",
        "colab_type": "text"
      },
      "source": [
        "<a href=\"https://colab.research.google.com/github/santi-ago/PIS-Libro_guia/blob/master/Modulos/Unidad_3.ipynb\" target=\"_parent\"><img src=\"https://colab.research.google.com/assets/colab-badge.svg\" alt=\"Open In Colab\"/></a>"
      ]
    },
    {
      "cell_type": "markdown",
      "metadata": {
        "id": "nS_T94ULEzj5",
        "colab_type": "text"
      },
      "source": [
        "<a href=\"https://github.com/santi-ago/PIS-Libro_guia/blob/master/Principal.ipynb\">Volver a principal</a>\n",
        "<h1><b>Unidad 3:</b> Manejo de archivos y aplicaciones</h1>\n",
        "\n",
        "---\n",
        "\n",
        "<h2><b>Función “os”</b></h2>\n",
        "<p>Texto</p>"
      ]
    }
  ]
}