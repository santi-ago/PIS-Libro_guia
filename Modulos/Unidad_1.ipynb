{
  "nbformat": 4,
  "nbformat_minor": 0,
  "metadata": {
    "colab": {
      "name": "Unidad_1.ipynb",
      "provenance": [],
      "authorship_tag": "ABX9TyN3FGrpSo7FFYrmzwVHeG+z",
      "include_colab_link": true
    },
    "kernelspec": {
      "name": "python3",
      "display_name": "Python 3"
    }
  },
  "cells": [
    {
      "cell_type": "markdown",
      "metadata": {
        "id": "view-in-github",
        "colab_type": "text"
      },
      "source": [
        "<a href=\"https://colab.research.google.com/github/santi-ago/PIS-Libro_guia/blob/master/Modulos/Unidad_1.ipynb\" target=\"_parent\"><img src=\"https://colab.research.google.com/assets/colab-badge.svg\" alt=\"Open In Colab\"/></a>"
      ]
    },
    {
      "cell_type": "code",
      "metadata": {
        "id": "ayD-co2YDGrM",
        "colab_type": "code",
        "colab": {}
      },
      "source": [
        ""
      ],
      "execution_count": 0,
      "outputs": []
    },
    {
      "cell_type": "markdown",
      "metadata": {
        "id": "tsfGs0S4DIkW",
        "colab_type": "text"
      },
      "source": [
        "<a href=\"https://github.com/santi-ago/PIS-Libro_guia/blob/master/Principal.ipynb\">Volver a principal</a>\n",
        "<h1><b>Unidad 1:</b> Sintaxis de Python y terminología</h1>\n",
        "\n",
        "---\n",
        "\n",
        "<h2><b>Cadenas, enteros, etc.</b></h2>\n",
        "<p>Texto</p>\n",
        "\n",
        "<h2><b>Manipulación de cadenas</b></h2>\n",
        "<p>Texto</p>\n",
        "\n",
        "<h2><b>Almacenado de variables</b></h2>\n",
        "<p>Texto</p>\n",
        "\n",
        "<h2><b>Valores booleanos</b></h2>\n",
        "<p>Texto</p>\n",
        "\n",
        "<h2><b>Listas y diccionarios</b></h2>\n",
        "<p>Texto</p>\n",
        "\n",
        "<h2><b>Ejemplos y ejercicios</b></h2>\n",
        "<p>Texto</p>\n"
      ]
    }
  ]
}