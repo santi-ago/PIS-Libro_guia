{
  "nbformat": 4,
  "nbformat_minor": 0,
  "metadata": {
    "colab": {
      "name": "Unidad_2.ipynb",
      "provenance": [],
      "authorship_tag": "ABX9TyP8ayb6rt0SrqATyze/6ZhE",
      "include_colab_link": true
    },
    "kernelspec": {
      "name": "python3",
      "display_name": "Python 3"
    }
  },
  "cells": [
    {
      "cell_type": "markdown",
      "metadata": {
        "id": "view-in-github",
        "colab_type": "text"
      },
      "source": [
        "<a href=\"https://colab.research.google.com/github/santi-ago/PIS-Libro_guia/blob/master/Modulos/Unidad_2.ipynb\" target=\"_parent\"><img src=\"https://colab.research.google.com/assets/colab-badge.svg\" alt=\"Open In Colab\"/></a>"
      ]
    },
    {
      "cell_type": "markdown",
      "metadata": {
        "id": "4nwuFn25EcIK",
        "colab_type": "text"
      },
      "source": [
        "<a href=\"https://github.com/santi-ago/PIS-Libro_guia/blob/master/Principal.ipynb\">Volver a principal</a>\n",
        "<h1><b>Unidad 2:</b> Funciones y librerías</h1>\n",
        "\n",
        "---\n",
        "\n",
        "<h2><b>Definición de función</b></h2>\n",
        "<p>Texto</p>\n",
        "\n",
        "<h2><b>Usos prácticos y ejemplos</b></h2>\n",
        "<p>Texto</p>\n",
        "\n",
        "<h2><b>Métodos</b></h2>\n",
        "<p>Texto</p>\n",
        "\n",
        "<h2><b>Librerías y paquetes</b></h2>\n",
        "<p>Texto</p>\n",
        "\n"
      ]
    }
  ]
}