{
  "nbformat": 4,
  "nbformat_minor": 0,
  "metadata": {
    "colab": {
      "name": "Conceptos_basicos.ipynb",
      "provenance": [],
      "authorship_tag": "ABX9TyMweWlcHIRYO89dhKljuvxy",
      "include_colab_link": true
    },
    "kernelspec": {
      "name": "python3",
      "display_name": "Python 3"
    }
  },
  "cells": [
    {
      "cell_type": "markdown",
      "metadata": {
        "id": "view-in-github",
        "colab_type": "text"
      },
      "source": [
        "<a href=\"https://colab.research.google.com/github/santi-ago/PIS-Libro_guia/blob/master/Modulos/Conceptos_basicos.ipynb\" target=\"_parent\"><img src=\"https://colab.research.google.com/assets/colab-badge.svg\" alt=\"Open In Colab\"/></a>"
      ]
    },
    {
      "cell_type": "markdown",
      "metadata": {
        "id": "uS4k3Adv6Aus",
        "colab_type": "text"
      },
      "source": [
        "<a href=\"https://github.com/santi-ago/PIS-Libro_guia/blob/master/Principal.ipynb\">Volver a principal</a>\n",
        "<h1><b> Conceptos básicos de programación </b></h1>\n",
        "\n",
        "---\n",
        "\n",
        "En este módulo se explicará que es un algoritmo y porqué son útiles\n",
        "\n"
      ]
    }
  ]
}